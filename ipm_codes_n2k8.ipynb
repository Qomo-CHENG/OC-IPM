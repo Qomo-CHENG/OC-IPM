{
 "cells": [
  {
   "cell_type": "markdown",
   "metadata": {},
   "source": [
    "# Linear codes for Inner Product Masking\n",
    "\n",
    "### $n=2$ shares, $\\ell=8$ bits"
   ]
  },
  {
   "cell_type": "markdown",
   "metadata": {},
   "source": [
    "Parameters:\n",
    "\n",
    "- $Z=(X + L_2Y_2, Y_2)$ where $X, Y$ and $Z$ are the sensitive variable, a mask and the protected variable, respectively\n",
    "- $L_2\\in \\mathbb{F}_{2^\\ell}\\backslash\\{0\\}$, thus there are 255 linear codes for IPM\n",
    "- Each element over $\\mathbb{F}_{2^\\ell}$ can be denoted as $\\alpha^i$ where $i\\in\\{0, 1, \\ldots, 254\\}$"
   ]
  },
  {
   "cell_type": "code",
   "execution_count": 1,
   "metadata": {},
   "outputs": [],
   "source": [
    "import numpy as np\n",
    "import matplotlib.pyplot as plt\n",
    "import seaborn as sns\n",
    "import re\n",
    "import pandas as pd # Pandas for tables\n",
    "from IPython.display import Latex\n",
    "from IPython.display import HTML"
   ]
  },
  {
   "cell_type": "code",
   "execution_count": 2,
   "metadata": {},
   "outputs": [],
   "source": [
    "def read_f(file_name):\n",
    "    \"\"\"Reading weight enumerators.\"\"\"\n",
    "    with open(file_name, 'r') as fp:\n",
    "        wd = fp.read().split(\"]\\n\")[:-1] # \"\\n\"\n",
    "        wd = np.array([list(map(int, re.findall(r\"\\d+\", elem))) for elem in wd])\n",
    "        \n",
    "    return wd"
   ]
  },
  {
   "cell_type": "markdown",
   "metadata": {},
   "source": [
    "## 1. Loading all weight enumerators"
   ]
  },
  {
   "cell_type": "code",
   "execution_count": 3,
   "metadata": {},
   "outputs": [],
   "source": [
    "wd = read_f(\"weight_distrib_n2k8.txt\") # Weight distribution\n",
    "\n",
    "# print(wd.shape) # 256 entries: 255 for IPM codes and one for BKLC codes"
   ]
  },
  {
   "cell_type": "markdown",
   "metadata": {},
   "source": [
    "### 1.1 Generating values"
   ]
  },
  {
   "cell_type": "code",
   "execution_count": 7,
   "metadata": {},
   "outputs": [
    {
     "ename": "NameError",
     "evalue": "name 'aa' is not defined",
     "output_type": "error",
     "traceback": [
      "\u001b[1;31m---------------------------------------------------------------------------\u001b[0m",
      "\u001b[1;31mNameError\u001b[0m                                 Traceback (most recent call last)",
      "\u001b[1;32m<ipython-input-7-193225bdcf79>\u001b[0m in \u001b[0;36m<module>\u001b[1;34m\u001b[0m\n\u001b[0;32m      2\u001b[0m \u001b[0md_all\u001b[0m \u001b[1;33m=\u001b[0m \u001b[0mnp\u001b[0m\u001b[1;33m.\u001b[0m\u001b[0mzeros\u001b[0m\u001b[1;33m(\u001b[0m\u001b[0mlen\u001b[0m\u001b[1;33m(\u001b[0m\u001b[0mwd\u001b[0m\u001b[1;33m)\u001b[0m\u001b[1;33m)\u001b[0m\u001b[1;33m\u001b[0m\u001b[1;33m\u001b[0m\u001b[0m\n\u001b[0;32m      3\u001b[0m \u001b[0mB_all\u001b[0m \u001b[1;33m=\u001b[0m \u001b[0mnp\u001b[0m\u001b[1;33m.\u001b[0m\u001b[0mzeros\u001b[0m\u001b[1;33m(\u001b[0m\u001b[0mlen\u001b[0m\u001b[1;33m(\u001b[0m\u001b[0mwd\u001b[0m\u001b[1;33m)\u001b[0m\u001b[1;33m)\u001b[0m\u001b[1;33m\u001b[0m\u001b[1;33m\u001b[0m\u001b[0m\n\u001b[1;32m----> 4\u001b[1;33m \u001b[1;32mfor\u001b[0m \u001b[0mi\u001b[0m \u001b[1;32min\u001b[0m \u001b[0mrange\u001b[0m\u001b[1;33m(\u001b[0m\u001b[0mlen\u001b[0m\u001b[1;33m(\u001b[0m\u001b[0maa\u001b[0m\u001b[1;33m)\u001b[0m\u001b[1;33m)\u001b[0m\u001b[1;33m:\u001b[0m\u001b[1;33m\u001b[0m\u001b[1;33m\u001b[0m\u001b[0m\n\u001b[0m\u001b[0;32m      5\u001b[0m     \u001b[0md_all\u001b[0m\u001b[1;33m[\u001b[0m\u001b[0mi\u001b[0m\u001b[1;33m]\u001b[0m \u001b[1;33m=\u001b[0m \u001b[0mwd\u001b[0m\u001b[1;33m[\u001b[0m\u001b[0mi\u001b[0m\u001b[1;33m]\u001b[0m\u001b[1;33m[\u001b[0m\u001b[1;36m2\u001b[0m\u001b[1;33m]\u001b[0m\u001b[1;33m\u001b[0m\u001b[1;33m\u001b[0m\u001b[0m\n\u001b[0;32m      6\u001b[0m     \u001b[0mB_all\u001b[0m\u001b[1;33m[\u001b[0m\u001b[0mi\u001b[0m\u001b[1;33m]\u001b[0m \u001b[1;33m=\u001b[0m \u001b[0mwd\u001b[0m\u001b[1;33m[\u001b[0m\u001b[0mi\u001b[0m\u001b[1;33m]\u001b[0m\u001b[1;33m[\u001b[0m\u001b[1;36m3\u001b[0m\u001b[1;33m]\u001b[0m\u001b[1;33m\u001b[0m\u001b[1;33m\u001b[0m\u001b[0m\n",
      "\u001b[1;31mNameError\u001b[0m: name 'aa' is not defined"
     ]
    }
   ],
   "source": [
    "alpha_all = ['$\\\\alpha^{%d}$'%i for i in np.arange(len(wd))]\n",
    "d_all = np.zeros(len(wd))\n",
    "B_all = np.zeros(len(wd))\n",
    "for i in range(len(aa)):\n",
    "    d_all[i] = wd[i][2]\n",
    "    B_all[i] = wd[i][3]"
   ]
  },
  {
   "cell_type": "markdown",
   "metadata": {},
   "source": [
    "### 1.2 Defining styles of dataframe\n",
    "\n",
    "We borrow the following setting of dataframe from https://mode.com/example-gallery/python_dataframe_styling/"
   ]
  },
  {
   "cell_type": "code",
   "execution_count": null,
   "metadata": {},
   "outputs": [],
   "source": [
    "# Set CSS properties for th, td and caption elements in dataframe\n",
    "th_props = [('font-size', '14px'), ('text-align', 'left'), ('font-weight', 'bold'), ('background-color', '#E0E0E0')]\n",
    "td_props = [('font-size', '13px'), ('text-align', 'left'), ('min-width', '80px')]\n",
    "cp_props = [('font-size', '16px'), ('text-align', 'center')]\n",
    "# Set table styles\n",
    "styles = [dict(selector=\"th\", props=th_props), dict(selector=\"td\", props=td_props), dict(selector=\"caption\", props=cp_props)]\n",
    "cm_1 = sns.light_palette(\"red\", as_cmap=True)\n",
    "cm_2 = sns.light_palette(\"purple\", as_cmap=True, reverse=True)"
   ]
  },
  {
   "cell_type": "code",
   "execution_count": null,
   "metadata": {
    "scrolled": true
   },
   "outputs": [],
   "source": [
    "df = pd.DataFrame({'$L_2$': alpha_all[:-2], '$d_{\\mathcal{D}}^\\perp$': d_all[:-2], '$B_{d_{\\mathcal{D}}^\\perp}$': B_all[:-2], 'Weight Enumerators': wd[:-2]})\n",
    "\n",
    "pd.set_option('display.max_colwidth', 1000)\n",
    "pd.set_option('display.width', 800)\n",
    "(df.style\n",
    "    .background_gradient(cmap=cm_1, subset=['$d_{\\mathcal{D}}^\\perp$','$B_{d_{\\mathcal{D}}^\\perp}$' ])\n",
    "    .background_gradient(cmap=cm_2, subset=['$B_{d_{\\mathcal{D}}^\\perp}$' ])\n",
    "    .set_caption('Tab. I All linear codes for IPM with $n=2$ shares over $\\mathbb{F}_{2^8}$.')\n",
    "    .set_table_styles(styles))\n"
   ]
  },
  {
   "cell_type": "markdown",
   "metadata": {},
   "source": [
    "## 2. Optimal linear codes for IPM"
   ]
  },
  {
   "cell_type": "markdown",
   "metadata": {},
   "source": [
    "### 2.1 Linear codes with $d_{\\mathcal{D}}^\\perp=4$\n",
    "\n",
    "We focus on the the linear codes with greater $d_{\\mathcal{D}}^\\perp$, which are better in the sense of side-channel resistance (from our paper)."
   ]
  },
  {
   "cell_type": "code",
   "execution_count": null,
   "metadata": {},
   "outputs": [],
   "source": [
    "# Finding the indices of d_C=4 \n",
    "d_index = []\n",
    "d_C = 4\n",
    "for i in range(len(wd)):\n",
    "    if wd[i][2] == d_C:\n",
    "        d_index.append(i)\n",
    "\n",
    "#d_index = np.array(d_index)"
   ]
  },
  {
   "cell_type": "code",
   "execution_count": null,
   "metadata": {},
   "outputs": [],
   "source": [
    "def highlight(s, threshold, column):\n",
    "    is_min = pd.Series(data=False, index=s.index)\n",
    "    is_min[column] = (s.loc[column] <= threshold)\n",
    "    return ['background-color: gold' if is_min.any() else '' for v in is_min]"
   ]
  },
  {
   "cell_type": "code",
   "execution_count": 5,
   "metadata": {
    "scrolled": false
   },
   "outputs": [
    {
     "ename": "NameError",
     "evalue": "name 'd_index' is not defined",
     "output_type": "error",
     "traceback": [
      "\u001b[1;31m---------------------------------------------------------------------------\u001b[0m",
      "\u001b[1;31mNameError\u001b[0m                                 Traceback (most recent call last)",
      "\u001b[1;32m<ipython-input-5-ae299fc9ed8c>\u001b[0m in \u001b[0;36m<module>\u001b[1;34m\u001b[0m\n\u001b[1;32m----> 1\u001b[1;33m \u001b[0mdf_4\u001b[0m \u001b[1;33m=\u001b[0m \u001b[0mpd\u001b[0m\u001b[1;33m.\u001b[0m\u001b[0mDataFrame\u001b[0m\u001b[1;33m(\u001b[0m\u001b[1;33m{\u001b[0m\u001b[1;34m'$L_2$'\u001b[0m\u001b[1;33m:\u001b[0m \u001b[0mnp\u001b[0m\u001b[1;33m.\u001b[0m\u001b[0marray\u001b[0m\u001b[1;33m(\u001b[0m\u001b[0malpha_all\u001b[0m\u001b[1;33m)\u001b[0m\u001b[1;33m[\u001b[0m\u001b[0md_index\u001b[0m\u001b[1;33m]\u001b[0m\u001b[1;33m,\u001b[0m \u001b[1;34m'$d_{\\mathcal{D}}^\\perp$'\u001b[0m\u001b[1;33m:\u001b[0m \u001b[0md_all\u001b[0m\u001b[1;33m[\u001b[0m\u001b[0md_index\u001b[0m\u001b[1;33m]\u001b[0m\u001b[1;33m,\u001b[0m \u001b[1;34m'$B_{d_{\\mathcal{D}}^\\perp}$'\u001b[0m\u001b[1;33m:\u001b[0m \u001b[0mB_all\u001b[0m\u001b[1;33m[\u001b[0m\u001b[0md_index\u001b[0m\u001b[1;33m]\u001b[0m\u001b[1;33m,\u001b[0m \u001b[1;34m'Weight Enumerators'\u001b[0m\u001b[1;33m:\u001b[0m \u001b[0mwd\u001b[0m\u001b[1;33m[\u001b[0m\u001b[0md_index\u001b[0m\u001b[1;33m]\u001b[0m\u001b[1;33m}\u001b[0m\u001b[1;33m)\u001b[0m\u001b[1;33m\u001b[0m\u001b[1;33m\u001b[0m\u001b[0m\n\u001b[0m\u001b[0;32m      2\u001b[0m \u001b[0mdf_4\u001b[0m \u001b[1;33m=\u001b[0m \u001b[0mdf_4\u001b[0m\u001b[1;33m.\u001b[0m\u001b[0msort_values\u001b[0m\u001b[1;33m(\u001b[0m\u001b[0mby\u001b[0m\u001b[1;33m=\u001b[0m\u001b[1;33m[\u001b[0m\u001b[1;34m'$B_{d_{\\mathcal{D}}^\\perp}$'\u001b[0m\u001b[1;33m]\u001b[0m\u001b[1;33m,\u001b[0m \u001b[0mascending\u001b[0m\u001b[1;33m=\u001b[0m\u001b[1;32mTrue\u001b[0m\u001b[1;33m)\u001b[0m\u001b[1;33m\u001b[0m\u001b[1;33m\u001b[0m\u001b[0m\n\u001b[0;32m      3\u001b[0m \u001b[1;33m\u001b[0m\u001b[0m\n\u001b[0;32m      4\u001b[0m (df_4.style\n\u001b[0;32m      5\u001b[0m     \u001b[1;33m.\u001b[0m\u001b[0mapply\u001b[0m\u001b[1;33m(\u001b[0m\u001b[0mhighlight\u001b[0m\u001b[1;33m,\u001b[0m \u001b[0mthreshold\u001b[0m\u001b[1;33m=\u001b[0m\u001b[1;36m3\u001b[0m\u001b[1;33m,\u001b[0m \u001b[0mcolumn\u001b[0m\u001b[1;33m=\u001b[0m\u001b[1;33m[\u001b[0m\u001b[1;34m'$B_{d_{\\mathcal{D}}^\\perp}$'\u001b[0m\u001b[1;33m]\u001b[0m\u001b[1;33m,\u001b[0m \u001b[0maxis\u001b[0m\u001b[1;33m=\u001b[0m\u001b[1;36m1\u001b[0m\u001b[1;33m)\u001b[0m\u001b[1;33m\u001b[0m\u001b[1;33m\u001b[0m\u001b[0m\n",
      "\u001b[1;31mNameError\u001b[0m: name 'd_index' is not defined"
     ]
    }
   ],
   "source": [
    "df_4 = pd.DataFrame({'$L_2$': np.array(alpha_all)[d_index], '$d_{\\mathcal{D}}^\\perp$': d_all[d_index], '$B_{d_{\\mathcal{D}}^\\perp}$': B_all[d_index], 'Weight Enumerators': wd[d_index]})\n",
    "df_4 = df_4.sort_values(by=['$B_{d_{\\mathcal{D}}^\\perp}$'], ascending=True)\n",
    "\n",
    "(df_4.style\n",
    "    .apply(highlight, threshold=3, column=['$B_{d_{\\mathcal{D}}^\\perp}$'], axis=1)\n",
    "    .background_gradient(cmap=cm_2, subset=['$B_{d_{\\mathcal{D}}^\\perp}$' ])\n",
    "    .set_caption('Tab. II Linear codes for IPM with $d_{\\mathcal{D}}^\\perp=4$.')\n",
    "    .set_table_styles(styles))"
   ]
  },
  {
   "cell_type": "markdown",
   "metadata": {},
   "source": [
    "### 2.2 Optimal codes for IPM\n",
    "\n",
    "As shown in our paper, the codes satifying two conditions are optimal:\n",
    "\n",
    "- Maximizing $d_{\\mathcal{D}}^\\perp$, here the $\\max\\{d_{\\mathcal{D}}^\\perp\\} = 4$\n",
    "- Minimizing $B_{d_{\\mathcal{D}}^\\perp}$, here the $\\min\\{B_{d_{\\mathcal{D}}^\\perp}\\} = 3$\n",
    "\n",
    "Note that we use two leakage detection metrics **SNR** (signal-to-noise ratio) and **MI** (mutual information), and one leakage exploitation metric **SR** (success rate) to assess the side-channel resistance of IPM with different codes."
   ]
  },
  {
   "cell_type": "markdown",
   "metadata": {
    "scrolled": false
   },
   "source": [
    "As a result of Tab. II, we conclude that the optimal codes for IPM are genetated by $\\mathbf{H}=[L_2, 1]$ where $L_2\\in\\{\\alpha^8, \\alpha^{126}, \\alpha^{127}, \\alpha^{128}, \\alpha^{129}, \\alpha^{247}\\}$."
   ]
  },
  {
   "cell_type": "markdown",
   "metadata": {},
   "source": [
    "### 2.3 BKLC code with parameter $[16, 8, 5]$\n",
    "\n",
    "BKLC is the short of Best Known Linear Code. Note that the code $[16, 8, 5]$ is unique."
   ]
  },
  {
   "cell_type": "code",
   "execution_count": 6,
   "metadata": {},
   "outputs": [
    {
     "ename": "NameError",
     "evalue": "name 'styles' is not defined",
     "output_type": "error",
     "traceback": [
      "\u001b[1;31m---------------------------------------------------------------------------\u001b[0m",
      "\u001b[1;31mNameError\u001b[0m                                 Traceback (most recent call last)",
      "\u001b[1;32m<ipython-input-6-da491d986fa4>\u001b[0m in \u001b[0;36m<module>\u001b[1;34m\u001b[0m\n\u001b[0;32m      6\u001b[0m     \u001b[1;33m.\u001b[0m\u001b[0mbackground_gradient\u001b[0m\u001b[1;33m(\u001b[0m\u001b[0mcmap\u001b[0m\u001b[1;33m=\u001b[0m\u001b[0mcm_3\u001b[0m\u001b[1;33m,\u001b[0m \u001b[0msubset\u001b[0m\u001b[1;33m=\u001b[0m\u001b[1;33m[\u001b[0m\u001b[1;34m'$d_{\\mathcal{D}}^\\perp$'\u001b[0m\u001b[1;33m,\u001b[0m \u001b[1;34m'$B_{d_{\\mathcal{D}}^\\perp}$'\u001b[0m\u001b[1;33m]\u001b[0m\u001b[1;33m)\u001b[0m\u001b[1;33m\u001b[0m\u001b[1;33m\u001b[0m\u001b[0m\n\u001b[0;32m      7\u001b[0m     \u001b[1;33m.\u001b[0m\u001b[0mset_caption\u001b[0m\u001b[1;33m(\u001b[0m\u001b[1;34m'Tab. III A BKLC code for IPM with $d_{\\mathcal{D}}^\\perp=5$.'\u001b[0m\u001b[1;33m)\u001b[0m\u001b[1;33m\u001b[0m\u001b[1;33m\u001b[0m\u001b[0m\n\u001b[1;32m----> 8\u001b[1;33m     .set_table_styles(styles))\n\u001b[0m",
      "\u001b[1;31mNameError\u001b[0m: name 'styles' is not defined"
     ]
    }
   ],
   "source": [
    "bklc_index = [255]\n",
    "cm_3 = sns.light_palette(\"red\", as_cmap=True, reverse=True)\n",
    "df_bklc = pd.DataFrame({'$L_2$': np.array(alpha_all)[-1], '$d_{\\mathcal{D}}^\\perp$': d_all[-1], '$B_{d_{\\mathcal{D}}^\\perp}$': B_all[-1], 'Weight Enumerators': wd[bklc_index]})\n",
    "\n",
    "(df_bklc.style\n",
    "    .background_gradient(cmap=cm_3, subset=['$d_{\\mathcal{D}}^\\perp$', '$B_{d_{\\mathcal{D}}^\\perp}$'])\n",
    "    .set_caption('Tab. III A BKLC code for IPM with $d_{\\mathcal{D}}^\\perp=5$.')\n",
    "    .set_table_styles(styles))"
   ]
  },
  {
   "cell_type": "markdown",
   "metadata": {},
   "source": [
    "We can see that this BKLC code is better than all linear codes in IPM. It is interesting to notice that the BKLC code $[16, 8, 5]$ cannot be used in IPM, since it cannot be generated by $\\mathbf{H}=[L_2, 1]$ with any $L_2\\in\\mathbb{F}_{2^8}$."
   ]
  },
  {
   "cell_type": "code",
   "execution_count": null,
   "metadata": {},
   "outputs": [],
   "source": []
  },
  {
   "cell_type": "code",
   "execution_count": null,
   "metadata": {},
   "outputs": [],
   "source": []
  }
 ],
 "metadata": {
  "kernelspec": {
   "display_name": "Python 3",
   "language": "python",
   "name": "python3"
  },
  "language_info": {
   "codemirror_mode": {
    "name": "ipython",
    "version": 3
   },
   "file_extension": ".py",
   "mimetype": "text/x-python",
   "name": "python",
   "nbconvert_exporter": "python",
   "pygments_lexer": "ipython3",
   "version": "3.7.3"
  }
 },
 "nbformat": 4,
 "nbformat_minor": 2
}
