{
 "cells": [
  {
   "cell_type": "markdown",
   "metadata": {},
   "source": [
    "# I. Linear codes for Inner Product Masking\n",
    "\n",
    "### $n=2$ shares, $\\ell=4$ bits"
   ]
  },
  {
   "cell_type": "markdown",
   "metadata": {},
   "source": [
    "Parameters:\n",
    "\n",
    "- $Z=(X + L_2Y_2, Y_2)=X\\mathbf{G} + Y\\mathbf{H}$ where $X, Y=(Y_2)$ and $Z$ are the sensitive variable, a mask and the protected variable, respectively. $\\mathbf{G} = [1, 0]$ and $\\mathbf{H} = [L_2, 1]$ are two generator matrices of codes $\\mathcal{C}$ and $\\mathcal{D}$, resp.\n",
    "- $L_2\\in \\mathbb{F}_{2^\\ell}\\backslash\\{0\\}$, thus there are 15 linear codes for IPM\n",
    "- Each element over $\\mathbb{F}_{2^\\ell}$ can be denoted as $\\alpha^i$ where $i\\in\\{0, 1, \\ldots, 14\\}$, the corresponding irreducible polynomial is $g(\\alpha) = \\alpha^4 + \\alpha +1$\n",
    "- $\\mathbf{H}^\\perp = [1, L_2]$ is the generator matirx of dual code $\\mathcal{D}^\\perp$"
   ]
  },
  {
   "cell_type": "code",
   "execution_count": 1,
   "metadata": {
    "ExecuteTime": {
     "end_time": "2020-02-15T10:41:03.535686Z",
     "start_time": "2020-02-15T10:41:02.696859Z"
    }
   },
   "outputs": [],
   "source": [
    "import numpy as np\n",
    "import matplotlib.pyplot as plt\n",
    "import seaborn as sns\n",
    "import re\n",
    "import pandas as pd # Pandas for tables\n",
    "from IPython.display import Latex\n",
    "from IPython.display import HTML"
   ]
  },
  {
   "cell_type": "code",
   "execution_count": 2,
   "metadata": {
    "ExecuteTime": {
     "end_time": "2020-02-15T10:41:46.275567Z",
     "start_time": "2020-02-15T10:41:46.262652Z"
    }
   },
   "outputs": [],
   "source": [
    "def read_f(file_name):\n",
    "    \"\"\"Reading weight enumerators.\"\"\"\n",
    "    with open(file_name, 'r') as fp:\n",
    "        wd = fp.read().split(\"]\\n\")[:-1] # \"\\n\"\n",
    "        wd = np.array([list(map(int, re.findall(r\"\\d+\", elem))) for elem in wd])\n",
    "        \n",
    "    return wd"
   ]
  },
  {
   "cell_type": "markdown",
   "metadata": {},
   "source": [
    "## 1. Loading all weight enumerators"
   ]
  },
  {
   "cell_type": "code",
   "execution_count": 3,
   "metadata": {
    "ExecuteTime": {
     "end_time": "2020-02-15T10:41:49.492390Z",
     "start_time": "2020-02-15T10:41:49.480387Z"
    }
   },
   "outputs": [],
   "source": [
    "wd = read_f(\"weight_distrib_n2k4.txt\") # Weight distribution\n",
    "\n",
    "# print(wd.shape) # 16 entries: 15 for IPM codes and one for BKLC codes"
   ]
  },
  {
   "cell_type": "markdown",
   "metadata": {},
   "source": [
    "### 1.1 Generating values"
   ]
  },
  {
   "cell_type": "code",
   "execution_count": 4,
   "metadata": {
    "ExecuteTime": {
     "end_time": "2020-02-15T10:41:51.680816Z",
     "start_time": "2020-02-15T10:41:51.663874Z"
    }
   },
   "outputs": [],
   "source": [
    "alpha_all = ['$\\\\alpha^{%d}$'%i for i in np.arange(len(wd))]\n",
    "d_all = np.zeros(len(wd))\n",
    "B_all = np.zeros(len(wd))\n",
    "for i in range(len(wd)):\n",
    "    d_all[i] = wd[i][2]\n",
    "    B_all[i] = wd[i][3]"
   ]
  },
  {
   "cell_type": "markdown",
   "metadata": {},
   "source": [
    "### 1.2 Defining styles of dataframe\n",
    "\n",
    "See more setting of dataframe from https://mode.com/example-gallery/python_dataframe_styling/"
   ]
  },
  {
   "cell_type": "code",
   "execution_count": 5,
   "metadata": {
    "ExecuteTime": {
     "end_time": "2020-02-15T10:41:53.182068Z",
     "start_time": "2020-02-15T10:41:53.132220Z"
    }
   },
   "outputs": [],
   "source": [
    "# Set properties for th, td and caption elements in dataframe\n",
    "th_props = [('font-size', '14px'), ('text-align', 'left'), ('font-weight', 'bold'), ('background-color', '#E0E0E0')]\n",
    "td_props = [('font-size', '13px'), ('text-align', 'left'), ('min-width', '80px')]\n",
    "cp_props = [('font-size', '16px'), ('text-align', 'center')]\n",
    "# Set table styles\n",
    "styles = [dict(selector=\"th\", props=th_props), dict(selector=\"td\", props=td_props), dict(selector=\"caption\", props=cp_props)]\n",
    "cm_1 = sns.light_palette(\"red\", as_cmap=True)\n",
    "cm_2 = sns.light_palette(\"purple\", as_cmap=True, reverse=True)"
   ]
  },
  {
   "cell_type": "code",
   "execution_count": 6,
   "metadata": {
    "ExecuteTime": {
     "end_time": "2020-02-15T10:41:54.835393Z",
     "start_time": "2020-02-15T10:41:54.446076Z"
    },
    "scrolled": false
   },
   "outputs": [
    {
     "data": {
      "text/html": [
       "<style  type=\"text/css\" >\n",
       "    #T_c87f3176_4fdf_11ea_b917_144f8ad8692b th {\n",
       "          font-size: 14px;\n",
       "          text-align: left;\n",
       "          font-weight: bold;\n",
       "          background-color: #E0E0E0;\n",
       "    }    #T_c87f3176_4fdf_11ea_b917_144f8ad8692b td {\n",
       "          font-size: 13px;\n",
       "          text-align: left;\n",
       "          min-width: 80px;\n",
       "    }    #T_c87f3176_4fdf_11ea_b917_144f8ad8692b caption {\n",
       "          font-size: 16px;\n",
       "          text-align: center;\n",
       "    }    #T_c87f3176_4fdf_11ea_b917_144f8ad8692brow0_col1 {\n",
       "            background-color:  #ffe5e5;\n",
       "            color:  #000000;\n",
       "        }    #T_c87f3176_4fdf_11ea_b917_144f8ad8692brow0_col2 {\n",
       "            background-color:  #ff0000;\n",
       "            color:  #f1f1f1;\n",
       "            background-color:  #ffe5ff;\n",
       "            color:  #000000;\n",
       "        }    #T_c87f3176_4fdf_11ea_b917_144f8ad8692brow1_col1 {\n",
       "            background-color:  #ffe5e5;\n",
       "            color:  #000000;\n",
       "        }    #T_c87f3176_4fdf_11ea_b917_144f8ad8692brow1_col2 {\n",
       "            background-color:  #ff4d4d;\n",
       "            color:  #000000;\n",
       "            background-color:  #d599d5;\n",
       "            color:  #000000;\n",
       "        }    #T_c87f3176_4fdf_11ea_b917_144f8ad8692brow2_col1 {\n",
       "            background-color:  #ffe5e5;\n",
       "            color:  #000000;\n",
       "        }    #T_c87f3176_4fdf_11ea_b917_144f8ad8692brow2_col2 {\n",
       "            background-color:  #ff9999;\n",
       "            color:  #000000;\n",
       "            background-color:  #aa4caa;\n",
       "            color:  #f1f1f1;\n",
       "        }    #T_c87f3176_4fdf_11ea_b917_144f8ad8692brow3_col1 {\n",
       "            background-color:  #ffe5e5;\n",
       "            color:  #000000;\n",
       "        }    #T_c87f3176_4fdf_11ea_b917_144f8ad8692brow3_col2 {\n",
       "            background-color:  #ffe5e5;\n",
       "            color:  #000000;\n",
       "            background-color:  #800080;\n",
       "            color:  #f1f1f1;\n",
       "        }    #T_c87f3176_4fdf_11ea_b917_144f8ad8692brow4_col1 {\n",
       "            background-color:  #ff0000;\n",
       "            color:  #f1f1f1;\n",
       "        }    #T_c87f3176_4fdf_11ea_b917_144f8ad8692brow4_col2 {\n",
       "            background-color:  #ff0000;\n",
       "            color:  #f1f1f1;\n",
       "            background-color:  #ffe5ff;\n",
       "            color:  #000000;\n",
       "        }    #T_c87f3176_4fdf_11ea_b917_144f8ad8692brow5_col1 {\n",
       "            background-color:  #ff0000;\n",
       "            color:  #f1f1f1;\n",
       "        }    #T_c87f3176_4fdf_11ea_b917_144f8ad8692brow5_col2 {\n",
       "            background-color:  #ff4d4d;\n",
       "            color:  #000000;\n",
       "            background-color:  #d599d5;\n",
       "            color:  #000000;\n",
       "        }    #T_c87f3176_4fdf_11ea_b917_144f8ad8692brow6_col1 {\n",
       "            background-color:  #ff0000;\n",
       "            color:  #f1f1f1;\n",
       "        }    #T_c87f3176_4fdf_11ea_b917_144f8ad8692brow6_col2 {\n",
       "            background-color:  #ff0000;\n",
       "            color:  #f1f1f1;\n",
       "            background-color:  #ffe5ff;\n",
       "            color:  #000000;\n",
       "        }    #T_c87f3176_4fdf_11ea_b917_144f8ad8692brow7_col1 {\n",
       "            background-color:  #ff0000;\n",
       "            color:  #f1f1f1;\n",
       "        }    #T_c87f3176_4fdf_11ea_b917_144f8ad8692brow7_col2 {\n",
       "            background-color:  #ff0000;\n",
       "            color:  #f1f1f1;\n",
       "            background-color:  #ffe5ff;\n",
       "            color:  #000000;\n",
       "        }    #T_c87f3176_4fdf_11ea_b917_144f8ad8692brow8_col1 {\n",
       "            background-color:  #ff0000;\n",
       "            color:  #f1f1f1;\n",
       "        }    #T_c87f3176_4fdf_11ea_b917_144f8ad8692brow8_col2 {\n",
       "            background-color:  #ff0000;\n",
       "            color:  #f1f1f1;\n",
       "            background-color:  #ffe5ff;\n",
       "            color:  #000000;\n",
       "        }    #T_c87f3176_4fdf_11ea_b917_144f8ad8692brow9_col1 {\n",
       "            background-color:  #ff0000;\n",
       "            color:  #f1f1f1;\n",
       "        }    #T_c87f3176_4fdf_11ea_b917_144f8ad8692brow9_col2 {\n",
       "            background-color:  #ff0000;\n",
       "            color:  #f1f1f1;\n",
       "            background-color:  #ffe5ff;\n",
       "            color:  #000000;\n",
       "        }    #T_c87f3176_4fdf_11ea_b917_144f8ad8692brow10_col1 {\n",
       "            background-color:  #ff0000;\n",
       "            color:  #f1f1f1;\n",
       "        }    #T_c87f3176_4fdf_11ea_b917_144f8ad8692brow10_col2 {\n",
       "            background-color:  #ff4d4d;\n",
       "            color:  #000000;\n",
       "            background-color:  #d599d5;\n",
       "            color:  #000000;\n",
       "        }    #T_c87f3176_4fdf_11ea_b917_144f8ad8692brow11_col1 {\n",
       "            background-color:  #ff0000;\n",
       "            color:  #f1f1f1;\n",
       "        }    #T_c87f3176_4fdf_11ea_b917_144f8ad8692brow11_col2 {\n",
       "            background-color:  #ff0000;\n",
       "            color:  #f1f1f1;\n",
       "            background-color:  #ffe5ff;\n",
       "            color:  #000000;\n",
       "        }    #T_c87f3176_4fdf_11ea_b917_144f8ad8692brow12_col1 {\n",
       "            background-color:  #ffe5e5;\n",
       "            color:  #000000;\n",
       "        }    #T_c87f3176_4fdf_11ea_b917_144f8ad8692brow12_col2 {\n",
       "            background-color:  #ffe5e5;\n",
       "            color:  #000000;\n",
       "            background-color:  #800080;\n",
       "            color:  #f1f1f1;\n",
       "        }    #T_c87f3176_4fdf_11ea_b917_144f8ad8692brow13_col1 {\n",
       "            background-color:  #ffe5e5;\n",
       "            color:  #000000;\n",
       "        }    #T_c87f3176_4fdf_11ea_b917_144f8ad8692brow13_col2 {\n",
       "            background-color:  #ff9999;\n",
       "            color:  #000000;\n",
       "            background-color:  #aa4caa;\n",
       "            color:  #f1f1f1;\n",
       "        }    #T_c87f3176_4fdf_11ea_b917_144f8ad8692brow14_col1 {\n",
       "            background-color:  #ffe5e5;\n",
       "            color:  #000000;\n",
       "        }    #T_c87f3176_4fdf_11ea_b917_144f8ad8692brow14_col2 {\n",
       "            background-color:  #ff4d4d;\n",
       "            color:  #000000;\n",
       "            background-color:  #d599d5;\n",
       "            color:  #000000;\n",
       "        }</style><table id=\"T_c87f3176_4fdf_11ea_b917_144f8ad8692b\" ><caption>Tab. I All linear codes for IPM with $n=2$ shares over $\\mathbb{F}_{2^4}$.</caption><thead>    <tr>        <th class=\"blank level0\" ></th>        <th class=\"col_heading level0 col0\" >$L_2$</th>        <th class=\"col_heading level0 col1\" >$d_{\\mathcal{D}}^\\perp$</th>        <th class=\"col_heading level0 col2\" >$B_{d_{\\mathcal{D}}^\\perp}$</th>        <th class=\"col_heading level0 col3\" >Weight Enumerators</th>    </tr></thead><tbody>\n",
       "                <tr>\n",
       "                        <th id=\"T_c87f3176_4fdf_11ea_b917_144f8ad8692blevel0_row0\" class=\"row_heading level0 row0\" >0</th>\n",
       "                        <td id=\"T_c87f3176_4fdf_11ea_b917_144f8ad8692brow0_col0\" class=\"data row0 col0\" >$\\alpha^{0}$</td>\n",
       "                        <td id=\"T_c87f3176_4fdf_11ea_b917_144f8ad8692brow0_col1\" class=\"data row0 col1\" >2</td>\n",
       "                        <td id=\"T_c87f3176_4fdf_11ea_b917_144f8ad8692brow0_col2\" class=\"data row0 col2\" >4</td>\n",
       "                        <td id=\"T_c87f3176_4fdf_11ea_b917_144f8ad8692brow0_col3\" class=\"data row0 col3\" >[0, 1, 2, 4, 4, 6, 6, 4, 8, 1]</td>\n",
       "            </tr>\n",
       "            <tr>\n",
       "                        <th id=\"T_c87f3176_4fdf_11ea_b917_144f8ad8692blevel0_row1\" class=\"row_heading level0 row1\" >1</th>\n",
       "                        <td id=\"T_c87f3176_4fdf_11ea_b917_144f8ad8692brow1_col0\" class=\"data row1 col0\" >$\\alpha^{1}$</td>\n",
       "                        <td id=\"T_c87f3176_4fdf_11ea_b917_144f8ad8692brow1_col1\" class=\"data row1 col1\" >2</td>\n",
       "                        <td id=\"T_c87f3176_4fdf_11ea_b917_144f8ad8692brow1_col2\" class=\"data row1 col2\" >3</td>\n",
       "                        <td id=\"T_c87f3176_4fdf_11ea_b917_144f8ad8692brow1_col3\" class=\"data row1 col3\" >[0, 1, 2, 3, 3, 2, 4, 3, 5, 4, 6, 1, 7, 2]</td>\n",
       "            </tr>\n",
       "            <tr>\n",
       "                        <th id=\"T_c87f3176_4fdf_11ea_b917_144f8ad8692blevel0_row2\" class=\"row_heading level0 row2\" >2</th>\n",
       "                        <td id=\"T_c87f3176_4fdf_11ea_b917_144f8ad8692brow2_col0\" class=\"data row2 col0\" >$\\alpha^{2}$</td>\n",
       "                        <td id=\"T_c87f3176_4fdf_11ea_b917_144f8ad8692brow2_col1\" class=\"data row2 col1\" >2</td>\n",
       "                        <td id=\"T_c87f3176_4fdf_11ea_b917_144f8ad8692brow2_col2\" class=\"data row2 col2\" >2</td>\n",
       "                        <td id=\"T_c87f3176_4fdf_11ea_b917_144f8ad8692brow2_col3\" class=\"data row2 col3\" >[0, 1, 2, 2, 3, 3, 4, 3, 5, 4, 6, 2, 7, 1]</td>\n",
       "            </tr>\n",
       "            <tr>\n",
       "                        <th id=\"T_c87f3176_4fdf_11ea_b917_144f8ad8692blevel0_row3\" class=\"row_heading level0 row3\" >3</th>\n",
       "                        <td id=\"T_c87f3176_4fdf_11ea_b917_144f8ad8692brow3_col0\" class=\"data row3 col0\" >$\\alpha^{3}$</td>\n",
       "                        <td id=\"T_c87f3176_4fdf_11ea_b917_144f8ad8692brow3_col1\" class=\"data row3 col1\" >2</td>\n",
       "                        <td id=\"T_c87f3176_4fdf_11ea_b917_144f8ad8692brow3_col2\" class=\"data row3 col2\" >1</td>\n",
       "                        <td id=\"T_c87f3176_4fdf_11ea_b917_144f8ad8692brow3_col3\" class=\"data row3 col3\" >[0, 1, 2, 1, 3, 4, 4, 3, 5, 4, 6, 3]</td>\n",
       "            </tr>\n",
       "            <tr>\n",
       "                        <th id=\"T_c87f3176_4fdf_11ea_b917_144f8ad8692blevel0_row4\" class=\"row_heading level0 row4\" >4</th>\n",
       "                        <td id=\"T_c87f3176_4fdf_11ea_b917_144f8ad8692brow4_col0\" class=\"data row4 col0\" >$\\alpha^{4}$</td>\n",
       "                        <td id=\"T_c87f3176_4fdf_11ea_b917_144f8ad8692brow4_col1\" class=\"data row4 col1\" >3</td>\n",
       "                        <td id=\"T_c87f3176_4fdf_11ea_b917_144f8ad8692brow4_col2\" class=\"data row4 col2\" >4</td>\n",
       "                        <td id=\"T_c87f3176_4fdf_11ea_b917_144f8ad8692brow4_col3\" class=\"data row4 col3\" >[0, 1, 3, 4, 4, 5, 5, 4, 6, 2]</td>\n",
       "            </tr>\n",
       "            <tr>\n",
       "                        <th id=\"T_c87f3176_4fdf_11ea_b917_144f8ad8692blevel0_row5\" class=\"row_heading level0 row5\" >5</th>\n",
       "                        <td id=\"T_c87f3176_4fdf_11ea_b917_144f8ad8692brow5_col0\" class=\"data row5 col0\" >$\\alpha^{5}$</td>\n",
       "                        <td id=\"T_c87f3176_4fdf_11ea_b917_144f8ad8692brow5_col1\" class=\"data row5 col1\" >3</td>\n",
       "                        <td id=\"T_c87f3176_4fdf_11ea_b917_144f8ad8692brow5_col2\" class=\"data row5 col2\" >3</td>\n",
       "                        <td id=\"T_c87f3176_4fdf_11ea_b917_144f8ad8692brow5_col3\" class=\"data row5 col3\" >[0, 1, 3, 3, 4, 7, 5, 4, 7, 1]</td>\n",
       "            </tr>\n",
       "            <tr>\n",
       "                        <th id=\"T_c87f3176_4fdf_11ea_b917_144f8ad8692blevel0_row6\" class=\"row_heading level0 row6\" >6</th>\n",
       "                        <td id=\"T_c87f3176_4fdf_11ea_b917_144f8ad8692brow6_col0\" class=\"data row6 col0\" >$\\alpha^{6}$</td>\n",
       "                        <td id=\"T_c87f3176_4fdf_11ea_b917_144f8ad8692brow6_col1\" class=\"data row6 col1\" >3</td>\n",
       "                        <td id=\"T_c87f3176_4fdf_11ea_b917_144f8ad8692brow6_col2\" class=\"data row6 col2\" >4</td>\n",
       "                        <td id=\"T_c87f3176_4fdf_11ea_b917_144f8ad8692brow6_col3\" class=\"data row6 col3\" >[0, 1, 3, 4, 4, 5, 5, 4, 6, 2]</td>\n",
       "            </tr>\n",
       "            <tr>\n",
       "                        <th id=\"T_c87f3176_4fdf_11ea_b917_144f8ad8692blevel0_row7\" class=\"row_heading level0 row7\" >7</th>\n",
       "                        <td id=\"T_c87f3176_4fdf_11ea_b917_144f8ad8692brow7_col0\" class=\"data row7 col0\" >$\\alpha^{7}$</td>\n",
       "                        <td id=\"T_c87f3176_4fdf_11ea_b917_144f8ad8692brow7_col1\" class=\"data row7 col1\" >3</td>\n",
       "                        <td id=\"T_c87f3176_4fdf_11ea_b917_144f8ad8692brow7_col2\" class=\"data row7 col2\" >4</td>\n",
       "                        <td id=\"T_c87f3176_4fdf_11ea_b917_144f8ad8692brow7_col3\" class=\"data row7 col3\" >[0, 1, 3, 4, 4, 5, 5, 4, 6, 2]</td>\n",
       "            </tr>\n",
       "            <tr>\n",
       "                        <th id=\"T_c87f3176_4fdf_11ea_b917_144f8ad8692blevel0_row8\" class=\"row_heading level0 row8\" >8</th>\n",
       "                        <td id=\"T_c87f3176_4fdf_11ea_b917_144f8ad8692brow8_col0\" class=\"data row8 col0\" >$\\alpha^{8}$</td>\n",
       "                        <td id=\"T_c87f3176_4fdf_11ea_b917_144f8ad8692brow8_col1\" class=\"data row8 col1\" >3</td>\n",
       "                        <td id=\"T_c87f3176_4fdf_11ea_b917_144f8ad8692brow8_col2\" class=\"data row8 col2\" >4</td>\n",
       "                        <td id=\"T_c87f3176_4fdf_11ea_b917_144f8ad8692brow8_col3\" class=\"data row8 col3\" >[0, 1, 3, 4, 4, 5, 5, 4, 6, 2]</td>\n",
       "            </tr>\n",
       "            <tr>\n",
       "                        <th id=\"T_c87f3176_4fdf_11ea_b917_144f8ad8692blevel0_row9\" class=\"row_heading level0 row9\" >9</th>\n",
       "                        <td id=\"T_c87f3176_4fdf_11ea_b917_144f8ad8692brow9_col0\" class=\"data row9 col0\" >$\\alpha^{9}$</td>\n",
       "                        <td id=\"T_c87f3176_4fdf_11ea_b917_144f8ad8692brow9_col1\" class=\"data row9 col1\" >3</td>\n",
       "                        <td id=\"T_c87f3176_4fdf_11ea_b917_144f8ad8692brow9_col2\" class=\"data row9 col2\" >4</td>\n",
       "                        <td id=\"T_c87f3176_4fdf_11ea_b917_144f8ad8692brow9_col3\" class=\"data row9 col3\" >[0, 1, 3, 4, 4, 5, 5, 4, 6, 2]</td>\n",
       "            </tr>\n",
       "            <tr>\n",
       "                        <th id=\"T_c87f3176_4fdf_11ea_b917_144f8ad8692blevel0_row10\" class=\"row_heading level0 row10\" >10</th>\n",
       "                        <td id=\"T_c87f3176_4fdf_11ea_b917_144f8ad8692brow10_col0\" class=\"data row10 col0\" >$\\alpha^{10}$</td>\n",
       "                        <td id=\"T_c87f3176_4fdf_11ea_b917_144f8ad8692brow10_col1\" class=\"data row10 col1\" >3</td>\n",
       "                        <td id=\"T_c87f3176_4fdf_11ea_b917_144f8ad8692brow10_col2\" class=\"data row10 col2\" >3</td>\n",
       "                        <td id=\"T_c87f3176_4fdf_11ea_b917_144f8ad8692brow10_col3\" class=\"data row10 col3\" >[0, 1, 3, 3, 4, 7, 5, 4, 7, 1]</td>\n",
       "            </tr>\n",
       "            <tr>\n",
       "                        <th id=\"T_c87f3176_4fdf_11ea_b917_144f8ad8692blevel0_row11\" class=\"row_heading level0 row11\" >11</th>\n",
       "                        <td id=\"T_c87f3176_4fdf_11ea_b917_144f8ad8692brow11_col0\" class=\"data row11 col0\" >$\\alpha^{11}$</td>\n",
       "                        <td id=\"T_c87f3176_4fdf_11ea_b917_144f8ad8692brow11_col1\" class=\"data row11 col1\" >3</td>\n",
       "                        <td id=\"T_c87f3176_4fdf_11ea_b917_144f8ad8692brow11_col2\" class=\"data row11 col2\" >4</td>\n",
       "                        <td id=\"T_c87f3176_4fdf_11ea_b917_144f8ad8692brow11_col3\" class=\"data row11 col3\" >[0, 1, 3, 4, 4, 5, 5, 4, 6, 2]</td>\n",
       "            </tr>\n",
       "            <tr>\n",
       "                        <th id=\"T_c87f3176_4fdf_11ea_b917_144f8ad8692blevel0_row12\" class=\"row_heading level0 row12\" >12</th>\n",
       "                        <td id=\"T_c87f3176_4fdf_11ea_b917_144f8ad8692brow12_col0\" class=\"data row12 col0\" >$\\alpha^{12}$</td>\n",
       "                        <td id=\"T_c87f3176_4fdf_11ea_b917_144f8ad8692brow12_col1\" class=\"data row12 col1\" >2</td>\n",
       "                        <td id=\"T_c87f3176_4fdf_11ea_b917_144f8ad8692brow12_col2\" class=\"data row12 col2\" >1</td>\n",
       "                        <td id=\"T_c87f3176_4fdf_11ea_b917_144f8ad8692brow12_col3\" class=\"data row12 col3\" >[0, 1, 2, 1, 3, 4, 4, 3, 5, 4, 6, 3]</td>\n",
       "            </tr>\n",
       "            <tr>\n",
       "                        <th id=\"T_c87f3176_4fdf_11ea_b917_144f8ad8692blevel0_row13\" class=\"row_heading level0 row13\" >13</th>\n",
       "                        <td id=\"T_c87f3176_4fdf_11ea_b917_144f8ad8692brow13_col0\" class=\"data row13 col0\" >$\\alpha^{13}$</td>\n",
       "                        <td id=\"T_c87f3176_4fdf_11ea_b917_144f8ad8692brow13_col1\" class=\"data row13 col1\" >2</td>\n",
       "                        <td id=\"T_c87f3176_4fdf_11ea_b917_144f8ad8692brow13_col2\" class=\"data row13 col2\" >2</td>\n",
       "                        <td id=\"T_c87f3176_4fdf_11ea_b917_144f8ad8692brow13_col3\" class=\"data row13 col3\" >[0, 1, 2, 2, 3, 3, 4, 3, 5, 4, 6, 2, 7, 1]</td>\n",
       "            </tr>\n",
       "            <tr>\n",
       "                        <th id=\"T_c87f3176_4fdf_11ea_b917_144f8ad8692blevel0_row14\" class=\"row_heading level0 row14\" >14</th>\n",
       "                        <td id=\"T_c87f3176_4fdf_11ea_b917_144f8ad8692brow14_col0\" class=\"data row14 col0\" >$\\alpha^{14}$</td>\n",
       "                        <td id=\"T_c87f3176_4fdf_11ea_b917_144f8ad8692brow14_col1\" class=\"data row14 col1\" >2</td>\n",
       "                        <td id=\"T_c87f3176_4fdf_11ea_b917_144f8ad8692brow14_col2\" class=\"data row14 col2\" >3</td>\n",
       "                        <td id=\"T_c87f3176_4fdf_11ea_b917_144f8ad8692brow14_col3\" class=\"data row14 col3\" >[0, 1, 2, 3, 3, 2, 4, 3, 5, 4, 6, 1, 7, 2]</td>\n",
       "            </tr>\n",
       "    </tbody></table>"
      ],
      "text/plain": [
       "<pandas.io.formats.style.Styler at 0x1f2f34db898>"
      ]
     },
     "execution_count": 6,
     "metadata": {},
     "output_type": "execute_result"
    }
   ],
   "source": [
    "df = pd.DataFrame({'$L_2$': alpha_all[:-1], '$d_{\\mathcal{D}}^\\perp$': d_all[:-1], '$B_{d_{\\mathcal{D}}^\\perp}$': B_all[:-1], \n",
    "                   'Weight Enumerators': wd[:-1]})\n",
    "\n",
    "pd.set_option('display.max_colwidth', 1000)\n",
    "pd.set_option('display.width', 800)\n",
    "(df.style\n",
    "    .background_gradient(cmap=cm_1, subset=['$d_{\\mathcal{D}}^\\perp$','$B_{d_{\\mathcal{D}}^\\perp}$' ])\n",
    "    .background_gradient(cmap=cm_2, subset=['$B_{d_{\\mathcal{D}}^\\perp}$' ])\n",
    "    .set_caption('Tab. I All linear codes for IPM with $n=2$ shares over $\\mathbb{F}_{2^4}$.')\n",
    "    .set_table_styles(styles))\n"
   ]
  },
  {
   "cell_type": "markdown",
   "metadata": {},
   "source": [
    "## 2. Optimal linear codes for IPM"
   ]
  },
  {
   "cell_type": "markdown",
   "metadata": {},
   "source": [
    "### 2.1 Linear codes with $d_{\\mathcal{D}}^\\perp=3$\n",
    "\n",
    "We focus on the the linear codes with greater $d_{\\mathcal{D}}^\\perp$, which are better in the sense of side-channel resistance (from our paper)."
   ]
  },
  {
   "cell_type": "code",
   "execution_count": 7,
   "metadata": {
    "ExecuteTime": {
     "end_time": "2020-02-15T10:42:04.018162Z",
     "start_time": "2020-02-15T10:42:04.006230Z"
    }
   },
   "outputs": [],
   "source": [
    "# Finding the indices of d_C=4 \n",
    "d_index = []\n",
    "d_C = 3\n",
    "for i in range(len(wd)):\n",
    "    if wd[i][2] == d_C:\n",
    "        d_index.append(i)\n",
    "\n",
    "#d_index = np.array(d_index)"
   ]
  },
  {
   "cell_type": "code",
   "execution_count": 8,
   "metadata": {
    "ExecuteTime": {
     "end_time": "2020-02-15T10:42:16.563776Z",
     "start_time": "2020-02-15T10:42:16.548817Z"
    }
   },
   "outputs": [
    {
     "name": "stdout",
     "output_type": "stream",
     "text": [
      "8\n"
     ]
    }
   ],
   "source": [
    "print(len(d_index))"
   ]
  },
  {
   "cell_type": "code",
   "execution_count": 9,
   "metadata": {
    "ExecuteTime": {
     "end_time": "2020-02-15T10:42:37.476723Z",
     "start_time": "2020-02-15T10:42:37.472734Z"
    }
   },
   "outputs": [],
   "source": [
    "def highlight(s, threshold, column):\n",
    "    is_min = pd.Series(data=False, index=s.index)\n",
    "    is_min[column] = (s.loc[column] <= threshold)\n",
    "    return ['background-color: gold' if is_min.any() else '' for v in is_min]"
   ]
  },
  {
   "cell_type": "code",
   "execution_count": 10,
   "metadata": {
    "ExecuteTime": {
     "end_time": "2020-02-15T10:42:37.915550Z",
     "start_time": "2020-02-15T10:42:37.856709Z"
    },
    "scrolled": false
   },
   "outputs": [
    {
     "data": {
      "text/html": [
       "<style  type=\"text/css\" >\n",
       "    #T_e22cbd5c_4fdf_11ea_9b08_144f8ad8692b th {\n",
       "          font-size: 14px;\n",
       "          text-align: left;\n",
       "          font-weight: bold;\n",
       "          background-color: #E0E0E0;\n",
       "    }    #T_e22cbd5c_4fdf_11ea_9b08_144f8ad8692b td {\n",
       "          font-size: 13px;\n",
       "          text-align: left;\n",
       "          min-width: 80px;\n",
       "    }    #T_e22cbd5c_4fdf_11ea_9b08_144f8ad8692b caption {\n",
       "          font-size: 16px;\n",
       "          text-align: center;\n",
       "    }    #T_e22cbd5c_4fdf_11ea_9b08_144f8ad8692brow0_col0 {\n",
       "            background-color:  gold;\n",
       "        }    #T_e22cbd5c_4fdf_11ea_9b08_144f8ad8692brow0_col1 {\n",
       "            background-color:  gold;\n",
       "        }    #T_e22cbd5c_4fdf_11ea_9b08_144f8ad8692brow0_col2 {\n",
       "            background-color:  gold;\n",
       "            background-color:  #800080;\n",
       "            color:  #f1f1f1;\n",
       "        }    #T_e22cbd5c_4fdf_11ea_9b08_144f8ad8692brow0_col3 {\n",
       "            background-color:  gold;\n",
       "        }    #T_e22cbd5c_4fdf_11ea_9b08_144f8ad8692brow1_col0 {\n",
       "            background-color:  gold;\n",
       "        }    #T_e22cbd5c_4fdf_11ea_9b08_144f8ad8692brow1_col1 {\n",
       "            background-color:  gold;\n",
       "        }    #T_e22cbd5c_4fdf_11ea_9b08_144f8ad8692brow1_col2 {\n",
       "            background-color:  gold;\n",
       "            background-color:  #800080;\n",
       "            color:  #f1f1f1;\n",
       "        }    #T_e22cbd5c_4fdf_11ea_9b08_144f8ad8692brow1_col3 {\n",
       "            background-color:  gold;\n",
       "        }    #T_e22cbd5c_4fdf_11ea_9b08_144f8ad8692brow2_col2 {\n",
       "            : ;\n",
       "            background-color:  #ffe5ff;\n",
       "            color:  #000000;\n",
       "        }    #T_e22cbd5c_4fdf_11ea_9b08_144f8ad8692brow3_col2 {\n",
       "            : ;\n",
       "            background-color:  #ffe5ff;\n",
       "            color:  #000000;\n",
       "        }    #T_e22cbd5c_4fdf_11ea_9b08_144f8ad8692brow4_col2 {\n",
       "            : ;\n",
       "            background-color:  #ffe5ff;\n",
       "            color:  #000000;\n",
       "        }    #T_e22cbd5c_4fdf_11ea_9b08_144f8ad8692brow5_col2 {\n",
       "            : ;\n",
       "            background-color:  #ffe5ff;\n",
       "            color:  #000000;\n",
       "        }    #T_e22cbd5c_4fdf_11ea_9b08_144f8ad8692brow6_col2 {\n",
       "            : ;\n",
       "            background-color:  #ffe5ff;\n",
       "            color:  #000000;\n",
       "        }    #T_e22cbd5c_4fdf_11ea_9b08_144f8ad8692brow7_col2 {\n",
       "            : ;\n",
       "            background-color:  #ffe5ff;\n",
       "            color:  #000000;\n",
       "        }</style><table id=\"T_e22cbd5c_4fdf_11ea_9b08_144f8ad8692b\" ><caption>Tab. II Linear codes for IPM with $d_{\\mathcal{D}}^\\perp=3$.</caption><thead>    <tr>        <th class=\"blank level0\" ></th>        <th class=\"col_heading level0 col0\" >$L_2$</th>        <th class=\"col_heading level0 col1\" >$d_{\\mathcal{D}}^\\perp$</th>        <th class=\"col_heading level0 col2\" >$B_{d_{\\mathcal{D}}^\\perp}$</th>        <th class=\"col_heading level0 col3\" >Weight Enumerators</th>    </tr></thead><tbody>\n",
       "                <tr>\n",
       "                        <th id=\"T_e22cbd5c_4fdf_11ea_9b08_144f8ad8692blevel0_row0\" class=\"row_heading level0 row0\" >1</th>\n",
       "                        <td id=\"T_e22cbd5c_4fdf_11ea_9b08_144f8ad8692brow0_col0\" class=\"data row0 col0\" >$\\alpha^{5}$</td>\n",
       "                        <td id=\"T_e22cbd5c_4fdf_11ea_9b08_144f8ad8692brow0_col1\" class=\"data row0 col1\" >3</td>\n",
       "                        <td id=\"T_e22cbd5c_4fdf_11ea_9b08_144f8ad8692brow0_col2\" class=\"data row0 col2\" >3</td>\n",
       "                        <td id=\"T_e22cbd5c_4fdf_11ea_9b08_144f8ad8692brow0_col3\" class=\"data row0 col3\" >[0, 1, 3, 3, 4, 7, 5, 4, 7, 1]</td>\n",
       "            </tr>\n",
       "            <tr>\n",
       "                        <th id=\"T_e22cbd5c_4fdf_11ea_9b08_144f8ad8692blevel0_row1\" class=\"row_heading level0 row1\" >6</th>\n",
       "                        <td id=\"T_e22cbd5c_4fdf_11ea_9b08_144f8ad8692brow1_col0\" class=\"data row1 col0\" >$\\alpha^{10}$</td>\n",
       "                        <td id=\"T_e22cbd5c_4fdf_11ea_9b08_144f8ad8692brow1_col1\" class=\"data row1 col1\" >3</td>\n",
       "                        <td id=\"T_e22cbd5c_4fdf_11ea_9b08_144f8ad8692brow1_col2\" class=\"data row1 col2\" >3</td>\n",
       "                        <td id=\"T_e22cbd5c_4fdf_11ea_9b08_144f8ad8692brow1_col3\" class=\"data row1 col3\" >[0, 1, 3, 3, 4, 7, 5, 4, 7, 1]</td>\n",
       "            </tr>\n",
       "            <tr>\n",
       "                        <th id=\"T_e22cbd5c_4fdf_11ea_9b08_144f8ad8692blevel0_row2\" class=\"row_heading level0 row2\" >0</th>\n",
       "                        <td id=\"T_e22cbd5c_4fdf_11ea_9b08_144f8ad8692brow2_col0\" class=\"data row2 col0\" >$\\alpha^{4}$</td>\n",
       "                        <td id=\"T_e22cbd5c_4fdf_11ea_9b08_144f8ad8692brow2_col1\" class=\"data row2 col1\" >3</td>\n",
       "                        <td id=\"T_e22cbd5c_4fdf_11ea_9b08_144f8ad8692brow2_col2\" class=\"data row2 col2\" >4</td>\n",
       "                        <td id=\"T_e22cbd5c_4fdf_11ea_9b08_144f8ad8692brow2_col3\" class=\"data row2 col3\" >[0, 1, 3, 4, 4, 5, 5, 4, 6, 2]</td>\n",
       "            </tr>\n",
       "            <tr>\n",
       "                        <th id=\"T_e22cbd5c_4fdf_11ea_9b08_144f8ad8692blevel0_row3\" class=\"row_heading level0 row3\" >2</th>\n",
       "                        <td id=\"T_e22cbd5c_4fdf_11ea_9b08_144f8ad8692brow3_col0\" class=\"data row3 col0\" >$\\alpha^{6}$</td>\n",
       "                        <td id=\"T_e22cbd5c_4fdf_11ea_9b08_144f8ad8692brow3_col1\" class=\"data row3 col1\" >3</td>\n",
       "                        <td id=\"T_e22cbd5c_4fdf_11ea_9b08_144f8ad8692brow3_col2\" class=\"data row3 col2\" >4</td>\n",
       "                        <td id=\"T_e22cbd5c_4fdf_11ea_9b08_144f8ad8692brow3_col3\" class=\"data row3 col3\" >[0, 1, 3, 4, 4, 5, 5, 4, 6, 2]</td>\n",
       "            </tr>\n",
       "            <tr>\n",
       "                        <th id=\"T_e22cbd5c_4fdf_11ea_9b08_144f8ad8692blevel0_row4\" class=\"row_heading level0 row4\" >3</th>\n",
       "                        <td id=\"T_e22cbd5c_4fdf_11ea_9b08_144f8ad8692brow4_col0\" class=\"data row4 col0\" >$\\alpha^{7}$</td>\n",
       "                        <td id=\"T_e22cbd5c_4fdf_11ea_9b08_144f8ad8692brow4_col1\" class=\"data row4 col1\" >3</td>\n",
       "                        <td id=\"T_e22cbd5c_4fdf_11ea_9b08_144f8ad8692brow4_col2\" class=\"data row4 col2\" >4</td>\n",
       "                        <td id=\"T_e22cbd5c_4fdf_11ea_9b08_144f8ad8692brow4_col3\" class=\"data row4 col3\" >[0, 1, 3, 4, 4, 5, 5, 4, 6, 2]</td>\n",
       "            </tr>\n",
       "            <tr>\n",
       "                        <th id=\"T_e22cbd5c_4fdf_11ea_9b08_144f8ad8692blevel0_row5\" class=\"row_heading level0 row5\" >4</th>\n",
       "                        <td id=\"T_e22cbd5c_4fdf_11ea_9b08_144f8ad8692brow5_col0\" class=\"data row5 col0\" >$\\alpha^{8}$</td>\n",
       "                        <td id=\"T_e22cbd5c_4fdf_11ea_9b08_144f8ad8692brow5_col1\" class=\"data row5 col1\" >3</td>\n",
       "                        <td id=\"T_e22cbd5c_4fdf_11ea_9b08_144f8ad8692brow5_col2\" class=\"data row5 col2\" >4</td>\n",
       "                        <td id=\"T_e22cbd5c_4fdf_11ea_9b08_144f8ad8692brow5_col3\" class=\"data row5 col3\" >[0, 1, 3, 4, 4, 5, 5, 4, 6, 2]</td>\n",
       "            </tr>\n",
       "            <tr>\n",
       "                        <th id=\"T_e22cbd5c_4fdf_11ea_9b08_144f8ad8692blevel0_row6\" class=\"row_heading level0 row6\" >5</th>\n",
       "                        <td id=\"T_e22cbd5c_4fdf_11ea_9b08_144f8ad8692brow6_col0\" class=\"data row6 col0\" >$\\alpha^{9}$</td>\n",
       "                        <td id=\"T_e22cbd5c_4fdf_11ea_9b08_144f8ad8692brow6_col1\" class=\"data row6 col1\" >3</td>\n",
       "                        <td id=\"T_e22cbd5c_4fdf_11ea_9b08_144f8ad8692brow6_col2\" class=\"data row6 col2\" >4</td>\n",
       "                        <td id=\"T_e22cbd5c_4fdf_11ea_9b08_144f8ad8692brow6_col3\" class=\"data row6 col3\" >[0, 1, 3, 4, 4, 5, 5, 4, 6, 2]</td>\n",
       "            </tr>\n",
       "            <tr>\n",
       "                        <th id=\"T_e22cbd5c_4fdf_11ea_9b08_144f8ad8692blevel0_row7\" class=\"row_heading level0 row7\" >7</th>\n",
       "                        <td id=\"T_e22cbd5c_4fdf_11ea_9b08_144f8ad8692brow7_col0\" class=\"data row7 col0\" >$\\alpha^{11}$</td>\n",
       "                        <td id=\"T_e22cbd5c_4fdf_11ea_9b08_144f8ad8692brow7_col1\" class=\"data row7 col1\" >3</td>\n",
       "                        <td id=\"T_e22cbd5c_4fdf_11ea_9b08_144f8ad8692brow7_col2\" class=\"data row7 col2\" >4</td>\n",
       "                        <td id=\"T_e22cbd5c_4fdf_11ea_9b08_144f8ad8692brow7_col3\" class=\"data row7 col3\" >[0, 1, 3, 4, 4, 5, 5, 4, 6, 2]</td>\n",
       "            </tr>\n",
       "    </tbody></table>"
      ],
      "text/plain": [
       "<pandas.io.formats.style.Styler at 0x1f2f4c4ef98>"
      ]
     },
     "execution_count": 10,
     "metadata": {},
     "output_type": "execute_result"
    }
   ],
   "source": [
    "df_4 = pd.DataFrame({'$L_2$': np.array(alpha_all)[d_index], '$d_{\\mathcal{D}}^\\perp$': d_all[d_index], \n",
    "                     '$B_{d_{\\mathcal{D}}^\\perp}$': B_all[d_index], 'Weight Enumerators': wd[d_index]})\n",
    "df_4 = df_4.sort_values(by=['$B_{d_{\\mathcal{D}}^\\perp}$'], ascending=True)\n",
    "\n",
    "(df_4.style\n",
    "    .apply(highlight, threshold=3, column=['$B_{d_{\\mathcal{D}}^\\perp}$'], axis=1)\n",
    "    .background_gradient(cmap=cm_2, subset=['$B_{d_{\\mathcal{D}}^\\perp}$' ])\n",
    "    .set_caption('Tab. II Linear codes for IPM with $d_{\\mathcal{D}}^\\perp=3$.')\n",
    "    .set_table_styles(styles))"
   ]
  },
  {
   "cell_type": "markdown",
   "metadata": {},
   "source": [
    "### 2.2 Optimal codes for IPM\n",
    "\n",
    "As shown in our paper, the codes satifying two conditions are optimal:\n",
    "\n",
    "- Maximizing $d_{\\mathcal{D}}^\\perp$, here $\\max\\{d_{\\mathcal{D}}^\\perp\\} = 3$\n",
    "- Minimizing $B_{d_{\\mathcal{D}}^\\perp}$, here $\\min\\{B_{d_{\\mathcal{D}}^\\perp}\\} = 3$\n",
    "\n",
    "Note that we use two leakage detection metrics **SNR** (signal-to-noise ratio) and **MI** (mutual information), and one leakage exploitation metric **SR** (success rate) to assess the side-channel resistance of IPM with different codes."
   ]
  },
  {
   "cell_type": "markdown",
   "metadata": {
    "scrolled": false
   },
   "source": [
    "As a result of Tab. II, we conclude that the optimal codes for IPM are genetated by $\\mathbf{H}=[L_2, 1]$ where $L_2\\in\\{\\alpha^5, \\alpha^{10}\\}$.\n",
    "\n",
    "The two optimal codes are equivalent and the generator matrix of the first one is: \n",
    "$$\n",
    "\\mathbf{H}_{optimal}=[\\alpha^5, 1] \\in \\mathbb{F}_{2^4}^2\n",
    "= \\left(\n",
    " \\begin{matrix}\n",
    "   1 & 1 & 0 & 0 & 1 & 0 & 0 & 0  \\\\\n",
    "   0 & 1 & 1 & 0 & 0 & 1 & 0 & 0  \\\\\n",
    "   0 & 0 & 1 & 1 & 0 & 0 & 1 & 0  \\\\\n",
    "   1 & 1 & 0 & 1 & 0 & 0 & 0 & 1  \n",
    "  \\end{matrix} \n",
    "\\right) \\in \\mathbb{F}_2^{4\\times 8}\n",
    "$$ "
   ]
  },
  {
   "cell_type": "markdown",
   "metadata": {},
   "source": [
    "### 2.3 BKLC code with parameter $[8, 4, 4]$\n",
    "\n",
    "BKLC is the short of Best Known Linear Code. \n",
    "\n",
    "**Note that the code $[8, 4, 4]$ is unique.**"
   ]
  },
  {
   "cell_type": "code",
   "execution_count": 11,
   "metadata": {
    "ExecuteTime": {
     "end_time": "2020-02-15T10:42:41.616925Z",
     "start_time": "2020-02-15T10:42:41.581022Z"
    }
   },
   "outputs": [
    {
     "data": {
      "text/html": [
       "<style  type=\"text/css\" >\n",
       "    #T_e4618646_4fdf_11ea_acc7_144f8ad8692b th {\n",
       "          font-size: 14px;\n",
       "          text-align: left;\n",
       "          font-weight: bold;\n",
       "          background-color: #E0E0E0;\n",
       "    }    #T_e4618646_4fdf_11ea_acc7_144f8ad8692b td {\n",
       "          font-size: 13px;\n",
       "          text-align: left;\n",
       "          min-width: 80px;\n",
       "    }    #T_e4618646_4fdf_11ea_acc7_144f8ad8692b caption {\n",
       "          font-size: 16px;\n",
       "          text-align: center;\n",
       "    }    #T_e4618646_4fdf_11ea_acc7_144f8ad8692brow0_col1 {\n",
       "            background-color:  #ff0000;\n",
       "            color:  #f1f1f1;\n",
       "        }    #T_e4618646_4fdf_11ea_acc7_144f8ad8692brow0_col2 {\n",
       "            background-color:  #ff0000;\n",
       "            color:  #f1f1f1;\n",
       "        }</style><table id=\"T_e4618646_4fdf_11ea_acc7_144f8ad8692b\" ><caption>Tab. III One BKLC code for IPM with $d_{\\mathcal{D}}^\\perp=4$.</caption><thead>    <tr>        <th class=\"blank level0\" ></th>        <th class=\"col_heading level0 col0\" >$L_2$</th>        <th class=\"col_heading level0 col1\" >$d_{\\mathcal{D}}^\\perp$</th>        <th class=\"col_heading level0 col2\" >$B_{d_{\\mathcal{D}}^\\perp}$</th>        <th class=\"col_heading level0 col3\" >Weight Enumerators</th>    </tr></thead><tbody>\n",
       "                <tr>\n",
       "                        <th id=\"T_e4618646_4fdf_11ea_acc7_144f8ad8692blevel0_row0\" class=\"row_heading level0 row0\" >0</th>\n",
       "                        <td id=\"T_e4618646_4fdf_11ea_acc7_144f8ad8692brow0_col0\" class=\"data row0 col0\" >  --</td>\n",
       "                        <td id=\"T_e4618646_4fdf_11ea_acc7_144f8ad8692brow0_col1\" class=\"data row0 col1\" >4</td>\n",
       "                        <td id=\"T_e4618646_4fdf_11ea_acc7_144f8ad8692brow0_col2\" class=\"data row0 col2\" >14</td>\n",
       "                        <td id=\"T_e4618646_4fdf_11ea_acc7_144f8ad8692brow0_col3\" class=\"data row0 col3\" >[0, 1, 4, 14, 8, 1]</td>\n",
       "            </tr>\n",
       "    </tbody></table>"
      ],
      "text/plain": [
       "<pandas.io.formats.style.Styler at 0x1f2f3484f60>"
      ]
     },
     "execution_count": 11,
     "metadata": {},
     "output_type": "execute_result"
    }
   ],
   "source": [
    "bklc_index = [15]\n",
    "cm_3 = sns.light_palette(\"red\", as_cmap=True, reverse=True)\n",
    "df_bklc = pd.DataFrame({'$L_2$': ['  --'], '$d_{\\mathcal{D}}^\\perp$': d_all[-1], '$B_{d_{\\mathcal{D}}^\\perp}$': B_all[-1], \n",
    "                        'Weight Enumerators': wd[bklc_index]})\n",
    "\n",
    "(df_bklc.style\n",
    "    .background_gradient(cmap=cm_3, subset=['$d_{\\mathcal{D}}^\\perp$', '$B_{d_{\\mathcal{D}}^\\perp}$'])\n",
    "    .set_caption('Tab. III One BKLC code for IPM with $d_{\\mathcal{D}}^\\perp=4$.')\n",
    "    .set_table_styles(styles))"
   ]
  },
  {
   "cell_type": "markdown",
   "metadata": {},
   "source": [
    "We can see that this BKLC code is better than all linear codes in IPM. It is interesting to notice that the BKLC code $[8, 4, 4]$ cannot be used in IPM, since it cannot be generated by $\\mathbf{H}^\\perp=[1, L_2]$ with any $L_2\\in\\mathbb{F}_{2^4}$."
   ]
  },
  {
   "cell_type": "markdown",
   "metadata": {},
   "source": [
    "The generator matrix of the dual code of BKLC code is: \n",
    "$$\n",
    "\\mathbf{H}_{BKLC}^\\perp\n",
    "= \\left(\n",
    " \\begin{matrix}\n",
    "   1 & 1 & 1 & 0 & 1 & 0 & 0 & 0  \\\\\n",
    "   1 & 1 & 0 & 1 & 0 & 1 & 0 & 0  \\\\\n",
    "   1 & 0 & 1 & 1 & 0 & 0 & 1 & 0  \\\\\n",
    "   0 & 1 & 1 & 1 & 0 & 0 & 0 & 1  \n",
    "  \\end{matrix} \n",
    "\\right) \\in \\mathbb{F}_2^{4\\times 8}\n",
    "$$ "
   ]
  }
 ],
 "metadata": {
  "kernelspec": {
   "display_name": "Python 3",
   "language": "python",
   "name": "python3"
  },
  "language_info": {
   "codemirror_mode": {
    "name": "ipython",
    "version": 3
   },
   "file_extension": ".py",
   "mimetype": "text/x-python",
   "name": "python",
   "nbconvert_exporter": "python",
   "pygments_lexer": "ipython3",
   "version": "3.7.3"
  },
  "toc": {
   "base_numbering": 1,
   "nav_menu": {},
   "number_sections": false,
   "sideBar": true,
   "skip_h1_title": false,
   "title_cell": "Table of Contents",
   "title_sidebar": "Contents",
   "toc_cell": false,
   "toc_position": {},
   "toc_section_display": true,
   "toc_window_display": false
  }
 },
 "nbformat": 4,
 "nbformat_minor": 2
}
